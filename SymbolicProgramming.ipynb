{
  "nbformat": 4,
  "nbformat_minor": 0,
  "metadata": {
    "colab": {
      "name": "SymbolicProgramming.ipynb",
      "provenance": []
    },
    "kernelspec": {
      "name": "python3",
      "display_name": "Python 3"
    },
    "language_info": {
      "name": "python"
    }
  },
  "cells": [
    {
      "cell_type": "code",
      "metadata": {
        "colab": {
          "base_uri": "https://localhost:8080/",
          "height": 89
        },
        "id": "QVKklLMUuqZ1",
        "outputId": "68112be1-0110-4ade-a2bc-6340a507c891"
      },
      "source": [
        "import sympy as sym\n",
        "a=int(input(\"Insert base of right Triangle:-\"))\n",
        "b=int(input(\"Insert side of right Triangle:-\"))\n",
        "print(\"The hypotenues Length is \")\n",
        "sym.sqrt(a**2 + b**2)"
      ],
      "execution_count": 1,
      "outputs": [
        {
          "output_type": "stream",
          "name": "stdout",
          "text": [
            "Insert base of right Triangle:-12\n",
            "Insert side of right Triangle:-4\n",
            "The hypotenues Length is \n"
          ]
        },
        {
          "output_type": "execute_result",
          "data": {
            "text/latex": "$\\displaystyle 4 \\sqrt{10}$",
            "text/plain": [
              "4*sqrt(10)"
            ]
          },
          "metadata": {},
          "execution_count": 1
        }
      ]
    },
    {
      "cell_type": "code",
      "metadata": {
        "colab": {
          "base_uri": "https://localhost:8080/",
          "height": 85
        },
        "id": "WLBsqTHmurzj",
        "outputId": "0329d62b-cb86-4ce3-d506-947401b7b5ca"
      },
      "source": [
        "from sympy import *\n",
        "a = float(input(\"Input a decimals to be added and converted to fractions : \"))\n",
        "b = float(input(\"Input another decimal : \"))\n",
        "a=Rational(a,1)+Rational(b,1)\n",
        "a.limit_denominator()"
      ],
      "execution_count": 3,
      "outputs": [
        {
          "name": "stdout",
          "output_type": "stream",
          "text": [
            "Input a decimals to be added and converted to fractions : 4.589\n",
            "Input another decimal : 5.99\n"
          ]
        },
        {
          "output_type": "execute_result",
          "data": {
            "text/latex": "$\\displaystyle \\frac{10579}{1000}$",
            "text/plain": [
              "10579/1000"
            ]
          },
          "metadata": {},
          "execution_count": 3
        }
      ]
    },
    {
      "cell_type": "code",
      "metadata": {
        "colab": {
          "base_uri": "https://localhost:8080/",
          "height": 55
        },
        "id": "yvoIdOkYur1i",
        "outputId": "4b2da2bb-fcca-4dc6-9477-dbaf8c55eea2"
      },
      "source": [
        "import sympy as sym\n",
        "x=sym.symbols('x')\n",
        "y=sym.symbols('y')\n",
        "a= int(input(\"Input the value of a to get the expanf form (a+b)^x : \"))\n",
        "sym.expand((x + y)**a)"
      ],
      "execution_count": 4,
      "outputs": [
        {
          "name": "stdout",
          "output_type": "stream",
          "text": [
            "Input the value of a to get the expanf form (a+b)^x : 4\n"
          ]
        },
        {
          "output_type": "execute_result",
          "data": {
            "text/latex": "$\\displaystyle x^{4} + 4 x^{3} y + 6 x^{2} y^{2} + 4 x y^{3} + y^{4}$",
            "text/plain": [
              "x**4 + 4*x**3*y + 6*x**2*y**2 + 4*x*y**3 + y**4"
            ]
          },
          "metadata": {},
          "execution_count": 4
        }
      ]
    },
    {
      "cell_type": "code",
      "metadata": {
        "colab": {
          "base_uri": "https://localhost:8080/",
          "height": 38
        },
        "id": "fSIaGowCur4E",
        "outputId": "85a7b264-f6b6-498e-c156-a819edb9d2d6"
      },
      "source": [
        "import sympy as sym\n",
        "a=(sym.sin(x)/sym.cos(x))\n",
        "a.simplify()"
      ],
      "execution_count": 5,
      "outputs": [
        {
          "output_type": "execute_result",
          "data": {
            "text/latex": "$\\displaystyle \\tan{\\left(x \\right)}$",
            "text/plain": [
              "tan(x)"
            ]
          },
          "metadata": {},
          "execution_count": 5
        }
      ]
    },
    {
      "cell_type": "code",
      "metadata": {
        "colab": {
          "base_uri": "https://localhost:8080/",
          "height": 196
        },
        "id": "iu6JWl6Cur6y",
        "outputId": "11175201-cd2b-4049-ab57-82e2d1410995"
      },
      "source": [
        "import sympy as sym\n",
        "import sympy as S\n",
        "x=sym.symbols('x')\n",
        "print(sym.Derivative(sym.log(x),x).simplify())\n",
        "print(\"\\n\")\n",
        "print(sym.Derivative(sym.cos(x),x).simplify())\n",
        "print(\"\\n\")\n",
        "print(sym.Integral(sym.exp(-x),(x,0,sym.oo)).simplify().evalf(2))\n",
        "\n",
        "sym.Integral(sym.exp(-x) ,(x,0,sym.oo))\n"
      ],
      "execution_count": 8,
      "outputs": [
        {
          "output_type": "stream",
          "name": "stdout",
          "text": [
            "1/x\n",
            "\n",
            "\n",
            "-sin(x)\n",
            "\n",
            "\n",
            "1.0\n"
          ]
        },
        {
          "output_type": "execute_result",
          "data": {
            "text/latex": "$\\displaystyle \\int\\limits_{0}^{\\infty} e^{- x}\\, dx$",
            "text/plain": [
              "Integral(exp(-x), (x, 0, oo))"
            ]
          },
          "metadata": {},
          "execution_count": 8
        }
      ]
    },
    {
      "cell_type": "code",
      "metadata": {
        "colab": {
          "base_uri": "https://localhost:8080/"
        },
        "id": "dCAxEM0xur9a",
        "outputId": "17368679-cdab-48a1-c824-817c457db5af"
      },
      "source": [
        "import sympy as sym\n",
        "x=sym.symbols('x')\n",
        "a=float(input(\"Input the value x to calculate area under sin(x*π) : \"))\n",
        "print(sym.integrate(sym.sin(x),(x,0,a*sym.pi)).simplify(),\"\\n\")\n"
      ],
      "execution_count": 9,
      "outputs": [
        {
          "output_type": "stream",
          "name": "stdout",
          "text": [
            "Input the value x to calculate area under sin(x*π) : 45\n",
            "2 \n",
            "\n"
          ]
        }
      ]
    }
  ]
}